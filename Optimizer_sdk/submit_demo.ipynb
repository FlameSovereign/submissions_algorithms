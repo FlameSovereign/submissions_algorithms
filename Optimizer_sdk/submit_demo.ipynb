{
 "cells": [
  {
   "cell_type": "markdown",
   "id": "91edd27f",
   "metadata": {},
   "source": [
    "# 🧪 CollapseGrammarOptimizer Submission Demo\n",
    "\n",
    "This notebook demonstrates CollapseGrammarOptimizer_vGH1.0 under multiple stress scenarios.\n",
    "It compares the performance against Adam, SGD, and RMSprop on synthetic collapse traces.\n"
   ]
  },
  {
   "cell_type": "code",
   "execution_count": null,
   "id": "2fe5a41e",
   "metadata": {},
   "outputs": [],
   "source": [
    "import torch\n",
    "import torch.nn as nn\n",
    "import numpy as np\n",
    "from torch.optim import Adam, SGD, RMSprop\n",
    "from extreme_scenarios import generate_batch_traces\n",
    "from CollapseGrammarOptimizer_vGH1 import CollapseGrammarOptimizer_vGH1\n",
    "import matplotlib.pyplot as plt"
   ]
  },
  {
   "cell_type": "code",
   "execution_count": null,
   "id": "6a881bed",
   "metadata": {},
   "outputs": [],
   "source": [
    "def run_optimizer_trace(optimizer_cls, mode, label):\n",
    "    model = nn.Sequential(nn.Linear(100, 64), nn.ReLU(), nn.Linear(64, 1))\n",
    "    traces = generate_batch_traces(mode, batch=32)\n",
    "    targets = torch.ones((32, 1))\n",
    "    criterion = nn.BCEWithLogitsLoss()\n",
    "    optimizer = optimizer_cls(model.parameters(), lr=1e-3)\n",
    "    losses = []\n",
    "    for epoch in range(20):\n",
    "        output = model(traces)\n",
    "        loss = criterion(output, targets)\n",
    "        optimizer.zero_grad()\n",
    "        loss.backward()\n",
    "        optimizer.step()\n",
    "        losses.append(loss.item())\n",
    "    return label, losses"
   ]
  },
  {
   "cell_type": "code",
   "execution_count": null,
   "id": "afde1410",
   "metadata": {},
   "outputs": [],
   "source": [
    "modes = ['vanishing_gradient', 'nan_divergence', 'chaotic_gradient', \n",
    "          'adversarial_spike', 'staircase_explosion', 'multi_modal_noise', \n",
    "          'plateau_burst', 'entropy_pulse']\n",
    "\n",
    "results = {}\n",
    "\n",
    "for mode in modes:\n",
    "    print(f\"Running trace: {mode}\")\n",
    "    results[mode] = []\n",
    "    for opt_name, opt_class in {\n",
    "        'GH': CollapseGrammarOptimizer_vGH1,\n",
    "        'Adam': Adam,\n",
    "        'SGD': SGD,\n",
    "        'RMSprop': RMSprop\n",
    "    }.items():\n",
    "        label, losses = run_optimizer_trace(lambda p: opt_class(p, lr=1e-3), mode, opt_name)\n",
    "        results[mode].append((label, losses))"
   ]
  },
  {
   "cell_type": "code",
   "execution_count": null,
   "id": "a46595c0",
   "metadata": {},
   "outputs": [],
   "source": [
    "for mode, res in results.items():\n",
    "    plt.figure(figsize=(10,6))\n",
    "    for label, losses in res:\n",
    "        plt.plot(losses, label=label)\n",
    "    plt.title(f\"Trace: {mode}\")\n",
    "    plt.xlabel(\"Epoch\")\n",
    "    plt.ylabel(\"Loss\")\n",
    "    plt.legend()\n",
    "    plt.grid(True)\n",
    "    plt.show()"
   ]
  }
 ],
 "metadata": {},
 "nbformat": 4,
 "nbformat_minor": 5
}